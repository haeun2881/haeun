{
 "cells": [
  {
   "cell_type": "markdown",
   "metadata": {},
   "source": [
    "print함수는 값을 출력하는 함수이다."
   ]
  },
  {
   "cell_type": "code",
   "execution_count": 2,
   "metadata": {},
   "outputs": [
    {
     "name": "stdout",
     "output_type": "stream",
     "text": [
      "Hello, World!!!\n"
     ]
    }
   ],
   "source": [
    "print(\"Hello, World!!!\")"
   ]
  },
  {
   "cell_type": "code",
   "execution_count": 5,
   "metadata": {},
   "outputs": [
    {
     "name": "stdout",
     "output_type": "stream",
     "text": [
      "abc\n",
      "123\n",
      "123\n",
      "오늘 \"소인수\" 수업을 했다.\n",
      "      너무 재밌었다.\n"
     ]
    }
   ],
   "source": [
    "print(\"abc\")\n",
    "print('123')\n",
    "print(123)\n",
    "\n",
    "print(\"\"\"오늘 \"소인수\" 수업을 했다.\n",
    "      너무 재밌었다.\"\"\")"
   ]
  },
  {
   "cell_type": "code",
   "execution_count": 12,
   "metadata": {},
   "outputs": [
    {
     "name": "stdout",
     "output_type": "stream",
     "text": [
      "1+2\n",
      "3\n"
     ]
    }
   ],
   "source": [
    "print('1+2')\n",
    "print(1+2)"
   ]
  },
  {
   "cell_type": "code",
   "execution_count": 1,
   "metadata": {},
   "outputs": [
    {
     "name": "stdout",
     "output_type": "stream",
     "text": [
      "30\n",
      "1020\n",
      "101010\n",
      "참참참\n"
     ]
    }
   ],
   "source": [
    "#+에 대한 설명\n",
    "print(10+20)\n",
    "print('10'+'20')\n",
    "#print(10+'20')\n",
    "print(3*'10')\n",
    "print(3*'참')"
   ]
  },
  {
   "cell_type": "code",
   "execution_count": 20,
   "metadata": {},
   "outputs": [
    {
     "name": "stdout",
     "output_type": "stream",
     "text": [
      "30\n",
      "-10\n",
      "200\n",
      "0.5\n",
      "1024\n",
      "2\n",
      "1\n"
     ]
    }
   ],
   "source": [
    "#산술 연산자\n",
    "print(10+20)\n",
    "print(10-20)\n",
    "print(10*20)\n",
    "print(10/20)\n",
    "#제곱\n",
    "print(2**10)\n",
    "#몫\n",
    "print(5//2)\n",
    "#나머지(중요!!)\n",
    "print(5%2)"
   ]
  },
  {
   "cell_type": "code",
   "execution_count": 22,
   "metadata": {},
   "outputs": [
    {
     "name": "stdout",
     "output_type": "stream",
     "text": [
      "50\n"
     ]
    }
   ],
   "source": [
    "#변수 (=는 '저장한다'의 개념)\n",
    "a = 10\n",
    "b = 20\n",
    "a = 30 #덮어쓴 것!!(원래는 10이었지만 30으로 덮어서 값이 변한 것)\n",
    "print(a+b)"
   ]
  },
  {
   "cell_type": "code",
   "execution_count": 24,
   "metadata": {},
   "outputs": [
    {
     "name": "stdout",
     "output_type": "stream",
     "text": [
      "30\n",
      "50\n"
     ]
    }
   ],
   "source": [
    "print(a)\n",
    "print(a+b)"
   ]
  },
  {
   "cell_type": "code",
   "execution_count": 26,
   "metadata": {},
   "outputs": [
    {
     "name": "stdout",
     "output_type": "stream",
     "text": [
      "500\n"
     ]
    }
   ],
   "source": [
    "s = (a + b) * 10 #양수음수 -> 괄호 -> 제곱 -> 나누기, 곱하기 -> 몫 나머지 -> 더하기 빼기 -> 대입 연산자(등호)\n",
    "print(s)"
   ]
  }
 ],
 "metadata": {
  "kernelspec": {
   "display_name": "Python 3",
   "language": "python",
   "name": "python3"
  },
  "language_info": {
   "codemirror_mode": {
    "name": "ipython",
    "version": 3
   },
   "file_extension": ".py",
   "mimetype": "text/x-python",
   "name": "python",
   "nbconvert_exporter": "python",
   "pygments_lexer": "ipython3",
   "version": "3.9.2"
  }
 },
 "nbformat": 4,
 "nbformat_minor": 2
}
