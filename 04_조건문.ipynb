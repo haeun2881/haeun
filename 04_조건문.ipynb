{
 "cells": [
  {
   "cell_type": "code",
   "execution_count": 1,
   "metadata": {},
   "outputs": [
    {
     "name": "stdout",
     "output_type": "stream",
     "text": [
      "안녕\n",
      "하세\n",
      "요\n"
     ]
    }
   ],
   "source": [
    "#조건문\n",
    "if True:\n",
    "    print(\"안녕\")\n",
    "    print('하세')\n",
    "print('요')"
   ]
  },
  {
   "cell_type": "code",
   "execution_count": 4,
   "metadata": {},
   "outputs": [
    {
     "name": "stdout",
     "output_type": "stream",
     "text": [
      "요\n"
     ]
    }
   ],
   "source": [
    "#조건문\n",
    "if False:\n",
    "    print(\"안녕\")\n",
    "    print('하세')\n",
    "print('요')"
   ]
  },
  {
   "cell_type": "code",
   "execution_count": 11,
   "metadata": {},
   "outputs": [
    {
     "name": "stdout",
     "output_type": "stream",
     "text": [
      "B\n",
      "C\n"
     ]
    }
   ],
   "source": [
    "if False:\n",
    "    print(\"A\")\n",
    "else:\n",
    "    print(\"B\")\n",
    "print('C')"
   ]
  },
  {
   "cell_type": "code",
   "execution_count": 29,
   "metadata": {},
   "outputs": [
    {
     "name": "stdout",
     "output_type": "stream",
     "text": [
      "200\n"
     ]
    }
   ],
   "source": [
    "#두 수를 입력받아 더 큰수를 출력하는 프로그램을 만들어보세요\n",
    "#3과 5과 입력되면 5를 출력합니다.\n",
    "a=int(input())\n",
    "b=int(input())\n",
    "\n",
    "if a>b:\n",
    "    print(a)\n",
    "else:\n",
    "    print(b)\n",
    "\n",
    "#크기를 비교할 때는 같은 것도 포함이 되기 때문에 else 사용하기!! 안 사용하면 실수할 수 있음"
   ]
  },
  {
   "cell_type": "code",
   "execution_count": 44,
   "metadata": {},
   "outputs": [
    {
     "name": "stdout",
     "output_type": "stream",
     "text": [
      "F\n"
     ]
    }
   ],
   "source": [
    "#성적을 입력받아 A,B,C,D,F를 출력하세요\n",
    "#A: 90점 이상\n",
    "#B: 90점 미만 80점 이상\n",
    "#C: 80점 미만 70점 이상\n",
    "#D: 70점 미만 60점 이상\n",
    "#F: 60점 미만\n",
    "\n",
    "a=int(input())\n",
    "\n",
    "if 90<=a<=100:\n",
    "    print('A')\n",
    "elif 80<=a<90:\n",
    "    print('B')\n",
    "elif 70<=a<80:\n",
    "    print('C')\n",
    "elif 60<=a<70:\n",
    "    print('D')\n",
    "elif 0<=a<60:\n",
    "    print('F')\n",
    "else:\n",
    "    print(\"잘못 입력하셨습니다.\")\n",
    "\n",
    "#성적의 경우에는 점수를 else처리하면 놓치는 경우가 있을 수 있음(ex.101점 잘못 입력) -> elif 되도록 사용!!"
   ]
  },
  {
   "cell_type": "code",
   "execution_count": null,
   "metadata": {},
   "outputs": [],
   "source": [
    "a=int(input())\n",
    "\n",
    "if 90<=a<=100:\n",
    "    print('A')\n",
    "elif 80<=a<90:\n",
    "    print('B')\n",
    "elif 70<=a<80:\n",
    "    print('C')\n",
    "elif 60<=a<70:\n",
    "    print('D')\n",
    "elif 0<=a<60:\n",
    "    print('F')\n",
    "else:\n",
    "    print(\"잘못 입력하셨습니다.\")"
   ]
  },
  {
   "cell_type": "code",
   "execution_count": null,
   "metadata": {},
   "outputs": [],
   "source": [
    "#연산자\n",
    "#산술연산자\n",
    "# + - * / ** % //\n",
    "# > < >= <= == !=\n",
    "\n"
   ]
  }
 ],
 "metadata": {
  "kernelspec": {
   "display_name": "Python 3",
   "language": "python",
   "name": "python3"
  },
  "language_info": {
   "codemirror_mode": {
    "name": "ipython",
    "version": 3
   },
   "file_extension": ".py",
   "mimetype": "text/x-python",
   "name": "python",
   "nbconvert_exporter": "python",
   "pygments_lexer": "ipython3",
   "version": "3.9.2"
  }
 },
 "nbformat": 4,
 "nbformat_minor": 2
}
