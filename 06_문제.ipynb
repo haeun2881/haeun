{
 "cells": [
  {
   "cell_type": "markdown",
   "metadata": {},
   "source": [
    "1. 환율 계산기\n",
    "1달러 = 1,341원\n",
    "\n",
    "환전할 달러를 입력 -> 환전금액을 출력하세요\n",
    "1\n",
    "1341"
   ]
  },
  {
   "cell_type": "code",
   "execution_count": 3,
   "metadata": {},
   "outputs": [
    {
     "name": "stdout",
     "output_type": "stream",
     "text": [
      "13410\n"
     ]
    }
   ],
   "source": [
    "a=int(input(\"환전할 금액을 입력하세요 : \"))\n",
    "print(a*1341)"
   ]
  },
  {
   "cell_type": "markdown",
   "metadata": {},
   "source": [
    "2. 환율 계산기 2\n",
    "1달러 = 1341\n",
    "1유로 = 1478\n",
    "1파운드 = 1750\n",
    "\n",
    "입력 예시\n",
    "유로\n",
    "1\n",
    "\n",
    "출력 예시\n",
    "1478 원"
   ]
  },
  {
   "cell_type": "code",
   "execution_count": 19,
   "metadata": {},
   "outputs": [
    {
     "name": "stdout",
     "output_type": "stream",
     "text": [
      "잘못 입력하셨습니다.\n"
     ]
    }
   ],
   "source": [
    "a = input(\"환전할 돈의 종류를 입력하세요 : \")\n",
    "b = int(input(\"환전할 금액을 입력하세요 : \"))\n",
    "\n",
    "if a=='달러':\n",
    "    print(b*1341,'원')\n",
    "elif a=='유로':\n",
    "    print(b*1478,'원')\n",
    "elif a=='파운드':\n",
    "    print(b*1750,'원')\n",
    "else:\n",
    "    print(\"잘못 입력하셨습니다.\")"
   ]
  },
  {
   "cell_type": "markdown",
   "metadata": {},
   "source": [
    "3. 두 수 중 더 큰 수를 출력하는 프로그램\n",
    "입력예시\n",
    "10\n",
    "20\n",
    "\n",
    "20"
   ]
  },
  {
   "cell_type": "code",
   "execution_count": 20,
   "metadata": {},
   "outputs": [
    {
     "name": "stdout",
     "output_type": "stream",
     "text": [
      "20\n"
     ]
    }
   ],
   "source": [
    "a=int(input())\n",
    "b=int(input())\n",
    "\n",
    "if a>b:\n",
    "    print(a)\n",
    "else:\n",
    "    print(b)"
   ]
  },
  {
   "cell_type": "markdown",
   "metadata": {},
   "source": [
    "4. 세 수 중 가장 큰 수를 출력하세요"
   ]
  },
  {
   "cell_type": "code",
   "execution_count": 34,
   "metadata": {},
   "outputs": [
    {
     "name": "stdout",
     "output_type": "stream",
     "text": [
      "30\n"
     ]
    }
   ],
   "source": [
    "a=int(input())\n",
    "b=int(input())\n",
    "c=int(input())\n",
    "\n",
    "if a>b and a>c:\n",
    "    print(a)\n",
    "elif b>a and b>c:\n",
    "    print(b)\n",
    "else:\n",
    "    print(c)\n"
   ]
  },
  {
   "cell_type": "markdown",
   "metadata": {},
   "source": [
    "5. 주민등록번호를 입력하면 남성인지 여성인지 알려주는 프로그램을 만들어보세요."
   ]
  },
  {
   "cell_type": "code",
   "execution_count": 51,
   "metadata": {},
   "outputs": [
    {
     "name": "stdout",
     "output_type": "stream",
     "text": [
      "여성\n"
     ]
    }
   ],
   "source": [
    "number=input()\n",
    "gender=number[7]\n",
    "if gender =='1' or gender =='3':\n",
    "    print(\"남성\")\n",
    "else:\n",
    "    print(\"여성\")"
   ]
  },
  {
   "cell_type": "markdown",
   "metadata": {},
   "source": [
    "6. 주민등록번호를 입력하면 대구인지 아닌지\n",
    "대구 - 67 68 69 76"
   ]
  },
  {
   "cell_type": "code",
   "execution_count": 58,
   "metadata": {},
   "outputs": [
    {
     "name": "stdout",
     "output_type": "stream",
     "text": [
      "대구입니다.\n"
     ]
    }
   ],
   "source": [
    "number=input()\n",
    "born=number[8:9]\n",
    "if born == '67' or born =='68' or born=='69' or born=='76':\n",
    "    print('대구입니다.')\n",
    "else:\n",
    "    print()"
   ]
  },
  {
   "cell_type": "code",
   "execution_count": 77,
   "metadata": {},
   "outputs": [
    {
     "ename": "ValueError",
     "evalue": "invalid literal for int() with base 10: ''",
     "output_type": "error",
     "traceback": [
      "\u001b[1;31m---------------------------------------------------------------------------\u001b[0m",
      "\u001b[1;31mValueError\u001b[0m                                Traceback (most recent call last)",
      "Cell \u001b[1;32mIn[77], line 2\u001b[0m\n\u001b[0;32m      1\u001b[0m number\u001b[38;5;241m=\u001b[39m\u001b[38;5;28minput\u001b[39m()\n\u001b[1;32m----> 2\u001b[0m born\u001b[38;5;241m=\u001b[39m\u001b[38;5;28;43mint\u001b[39;49m\u001b[43m(\u001b[49m\u001b[43mnumber\u001b[49m\u001b[43m[\u001b[49m\u001b[38;5;241;43m8\u001b[39;49m\u001b[43m:\u001b[49m\u001b[38;5;241;43m10\u001b[39;49m\u001b[43m]\u001b[49m\u001b[43m)\u001b[49m\n\u001b[0;32m      3\u001b[0m \u001b[38;5;28;01mif\u001b[39;00m \u001b[38;5;241m67\u001b[39m \u001b[38;5;241m<\u001b[39m\u001b[38;5;241m=\u001b[39m born \u001b[38;5;241m<\u001b[39m\u001b[38;5;241m=\u001b[39m \u001b[38;5;241m69\u001b[39m \u001b[38;5;129;01mor\u001b[39;00m born\u001b[38;5;241m==\u001b[39m\u001b[38;5;241m76\u001b[39m:\n\u001b[0;32m      4\u001b[0m     \u001b[38;5;28mprint\u001b[39m(\u001b[38;5;124m'\u001b[39m\u001b[38;5;124m대구입니다.\u001b[39m\u001b[38;5;124m'\u001b[39m)\n",
      "\u001b[1;31mValueError\u001b[0m: invalid literal for int() with base 10: ''"
     ]
    }
   ],
   "source": [
    "number=input()\n",
    "born=int(number[8:10])\n",
    "if 67 <= born <= 69 or born==76:\n",
    "    print('대구입니다.')\n",
    "else:\n",
    "    print('대구가 아닙니다.')"
   ]
  },
  {
   "cell_type": "code",
   "execution_count": null,
   "metadata": {},
   "outputs": [],
   "source": [
    "num = '080801-498517'\n",
    "sum = int(num[0])*2+int(num[1])*3+int(num[2])*4+int(num[3])*5+int(num[4])*6+int(num[5])*7+int(num[7])*8+int(num[8])*9+int(num[9])*2+int(num[10])*3+int(num[11])*4+int(num[12])*5\n",
    "result = (11-(sum%11))%10"
   ]
  },
  {
   "cell_type": "code",
   "execution_count": 78,
   "metadata": {},
   "outputs": [
    {
     "name": "stdout",
     "output_type": "stream",
     "text": [
      "이상없음\n"
     ]
    }
   ],
   "source": [
    "num= '080801-4698517'\n",
    "\n",
    "sum=0 #sum을 0으로 표시하는 까닭은 sum이 처음에 값이 없기 때문에 값을 정해주고 더해줘야한다.\n",
    "key=2\n",
    "for i in num[:-1]:\n",
    "    if key ==10:\n",
    "        key = 2\n",
    "    if i!='-':\n",
    "        sum = sum + (int(i)*key)  #위에 말한 얘기가 이거를 말하는거임!!\n",
    "        key = key + 1\n",
    "\n",
    "result = (11-(sum%11))%10\n",
    "\n",
    "if result == int(num[-1]):\n",
    "    print(\"이상없음\")\n",
    "else:\n",
    "    print(\"오류발생\")\n"
   ]
  }
 ],
 "metadata": {
  "kernelspec": {
   "display_name": "Python 3",
   "language": "python",
   "name": "python3"
  },
  "language_info": {
   "codemirror_mode": {
    "name": "ipython",
    "version": 3
   },
   "file_extension": ".py",
   "mimetype": "text/x-python",
   "name": "python",
   "nbconvert_exporter": "python",
   "pygments_lexer": "ipython3",
   "version": "3.9.2"
  }
 },
 "nbformat": 4,
 "nbformat_minor": 2
}
